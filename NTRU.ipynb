{
 "cells": [
  {
   "cell_type": "code",
   "execution_count": 1,
   "metadata": {
    "vscode": {
     "languageId": "python"
    }
   },
   "outputs": [],
   "source": [
    "import random"
   ]
  },
  {
   "cell_type": "code",
   "execution_count": 2,
   "metadata": {},
   "outputs": [],
   "source": [
    " R.<X> = Integers(0)[]"
   ]
  },
  {
   "cell_type": "code",
   "execution_count": 3,
   "metadata": {},
   "outputs": [],
   "source": [
    "def convolution(f,g,N):\n",
    "    #This could also be done by list comprehension\n",
    "    return f*g %(X^N -1)"
   ]
  },
  {
   "cell_type": "code",
   "execution_count": 4,
   "metadata": {},
   "outputs": [],
   "source": [
    "def generate_key(dpos,dneg,N):\n",
    "    # This is probably not the best way to generate a random key\n",
    "    # We first randomly place dpos 1s and then dneg -1s,\n",
    "    # the rest are 0 \n",
    "    poly = [0]*N\n",
    "    while dpos > 0:\n",
    "        i = randrange(N)\n",
    "        if poly[i] == 0:\n",
    "            poly[i] = 1\n",
    "            dpos -= 1\n",
    "    while dneg >0:\n",
    "        i = randrange(N)\n",
    "        if poly[i] == 0:\n",
    "            poly[i] = -1\n",
    "            dneg -= 1\n",
    "    return R(poly)"
   ]
  },
  {
   "cell_type": "code",
   "execution_count": 5,
   "metadata": {},
   "outputs": [],
   "source": [
    "def poly_mod(f,q):\n",
    "    # This could also be done by list comprehension\n",
    "    Rq.<X> = Integers(q)[]\n",
    "    coefflist = f.list()\n",
    "    return Rq(coefflist)"
   ]
  },
  {
   "cell_type": "code",
   "execution_count": 6,
   "metadata": {},
   "outputs": [],
   "source": [
    "def center_lift(f,p):\n",
    "    coefflist = R(f).list()\n",
    "    return R([((coefflist[i] + p//2) %p) - p//2 for i in range(len(coefflist))])"
   ]
  },
  {
   "cell_type": "code",
   "execution_count": 7,
   "metadata": {},
   "outputs": [],
   "source": [
    "def inverse_prime(f,j,N):\n",
    "    # We could also do this using the extended euclidian algorithm \n",
    "    # since // is implemented modulo primes\n",
    "    Rj.<X> = Integers(j)[]\n",
    "    RR = Rj.quotient(X^(N) -1)\n",
    "    return R(lift(RR(f.list())^(-1)))"
   ]
  },
  {
   "cell_type": "code",
   "execution_count": 8,
   "metadata": {},
   "outputs": [],
   "source": [
    "def inverse_prime_pow(f,t,q,N):\n",
    "    # The idea here is that we first find an inverse g mod t. \n",
    "    # Then we know that g(x)*f(x) = 1 - tr(x). \n",
    "    # This means that (1 + tr(x))g(x)*f(x) = 1 - t^2r^2(x)\n",
    "    # We iterate this process until we get g'(x)f(x) = 1 - qr^m(x), \n",
    "    # and g'(x) is the inverse of f(x) mod q\n",
    "    \n",
    "    assert q.is_power_of(t)\n",
    "    g = inverse_prime(f,t,N)\n",
    "    assert poly_mod(convolution(f,g,N),t) == 1\n",
    "    while True:\n",
    "        r = center_lift(convolution(f,g,N),q)\n",
    "        if r == 1:\n",
    "            return g\n",
    "        g = center_lift(convolution(g,2-r,N),q)"
   ]
  },
  {
   "cell_type": "code",
   "execution_count": 9,
   "metadata": {},
   "outputs": [],
   "source": [
    "def inverse(f,q,N):\n",
    "    # To find the inverse of f modulo q where q is composite\n",
    "    # We first find the inverse modulo the prime powers composing q\n",
    "    # Then we use the CRT to find the inverse mod the product of those prime powers, aka q\n",
    "    \n",
    "    #get prime factorization of q\n",
    "    fact = factor(q)\n",
    "    factors = list(fact)\n",
    "    #get the inverses mod prime powers\n",
    "    inverse_dict = {}\n",
    "    for l in factors:\n",
    "        inverse_dict[l[0]] = inverse_prime_pow(f,l[0],(l[0]^l[1]),N)\n",
    "    #use the CRT to find the total inverse\n",
    "    inverse = 0\n",
    "    for i in factors:\n",
    "        Ni = q // (i[0]^i[1])\n",
    "        inverse += inverse_dict[i[0]]*Ni*xgcd(Ni,i[0]^i[1])[1]\n",
    "    return inverse"
   ]
  },
  {
   "cell_type": "code",
   "execution_count": 10,
   "metadata": {},
   "outputs": [],
   "source": [
    "def NTRU_setup(N, p, q, d):\n",
    "\n",
    "    # check that we don't have to create impossible polynomials\n",
    "    assert 2*d + 1 <= N\n",
    "\n",
    "    # We could check that the decryption will always happen accurately.\n",
    "    # But it turns out that in practice the decryption \n",
    "    # is accurate almost all the time even if q < (6*d+1)*p.\n",
    "    # This is because it's highly unlikely that all the coefficients will line up to attain that bound \n",
    "    # assert q > (6*d+1)*p\n",
    "    \n",
    "    #generate key f invertible mod p and mod q of degree N-1 with coefficients 1, 0, -1 \n",
    "    while True:\n",
    "        try:\n",
    "            f = generate_key(d+1,d,N)\n",
    "            Fp = inverse(f,p,N)\n",
    "            Fq = inverse(f,q,N)\n",
    "            break\n",
    "        except: pass\n",
    "    \n",
    "    assert poly_mod(convolution(f,Fp,N),p) == 1\n",
    "    assert poly_mod(convolution(f,Fq,N),q) == 1\n",
    "\n",
    "    #generate key g with coefficients 1,0,-1\n",
    "    g = generate_key(d,d,N)\n",
    "    \n",
    "    #create the public key\n",
    "    h = poly_mod(convolution(Fq,g,N),q)\n",
    "\n",
    "    return f, Fp, h"
   ]
  },
  {
   "cell_type": "code",
   "execution_count": 11,
   "metadata": {},
   "outputs": [],
   "source": [
    "def NTRU_encrypt(m,p,q,N,h):\n",
    "    #generate a random perturbation\n",
    "    r = generate_key(d,d,N)\n",
    "    #return the encrypted message\n",
    "    return poly_mod(p*convolution(h,r,N) + m,q)"
   ]
  },
  {
   "cell_type": "code",
   "execution_count": 12,
   "metadata": {},
   "outputs": [],
   "source": [
    "def NTRU_decrypt(f,Fp,e,p,q,N):\n",
    "    a = R(center_lift(convolution(f,e,N),q))\n",
    "    return center_lift(convolution(a,Fp,N),p)"
   ]
  },
  {
   "cell_type": "code",
   "execution_count": 14,
   "metadata": {
    "scrolled": true
   },
   "outputs": [
    {
     "name": "stdout",
     "output_type": "stream",
     "text": [
      "-X^820 - X^818 - X^816 - X^815 + X^814 - X^813 - X^812 - X^811 + X^809 + X^806 - X^803 - X^802 - X^800 - X^799 + X^797 + X^796 + X^793 + X^790 - X^789 + X^788 - X^787 + X^786 - X^785 - X^782 + X^781 - X^780 + X^778 - X^777 + X^776 - X^775 + X^774 - X^772 - X^771 - X^770 + X^768 - X^765 - X^764 + X^763 + X^762 - X^761 + X^760 - X^758 + X^757 - X^756 - X^755 - X^754 - X^753 - X^751 - X^750 + X^749 - X^746 + X^745 - X^744 + X^740 + X^739 - X^737 + X^734 + X^733 - X^732 - X^731 - X^730 - X^728 + X^727 + X^726 - X^722 + X^721 + X^720 - X^717 - X^716 + X^715 + X^714 + X^713 + X^712 + X^711 + X^710 + X^708 + X^707 + X^706 - X^705 - X^704 - X^702 - X^700 - X^698 - X^697 + X^696 + X^694 - X^693 - X^692 + X^691 - X^690 - X^689 + X^688 - X^687 - X^686 - X^684 - X^682 + X^680 + X^679 + X^677 - X^676 + X^675 + X^674 + X^673 + X^668 + X^666 - X^663 - X^661 + X^660 + X^659 - X^657 + X^656 + X^655 + X^653 - X^652 - X^650 + X^649 + X^648 - X^647 - X^646 + X^642 + X^641 - X^639 + X^638 + X^636 + X^634 + X^633 - X^632 + X^630 + X^627 + X^626 - X^625 - X^624 - X^623 - X^622 + X^621 + X^620 + X^618 + X^617 + X^616 - X^615 - X^614 - X^613 - X^610 + X^609 + X^608 + X^606 + X^605 - X^604 + X^603 - X^601 + X^600 + X^599 + X^598 - X^597 + X^589 - X^587 + X^586 + X^585 - X^583 - X^581 + X^580 + X^579 - X^576 - X^575 - X^574 + X^573 - X^572 + X^571 + X^569 - X^568 - X^567 + X^566 - X^564 - X^560 - X^559 - X^557 - X^556 + X^555 - X^553 - X^551 + X^550 - X^547 - X^545 - X^544 - X^542 + X^541 + X^540 + X^539 + X^538 - X^537 - X^534 - X^532 + X^531 + X^530 - X^528 - X^526 - X^525 + X^524 + X^523 + X^519 - X^516 - X^514 + X^513 - X^511 + X^509 - X^508 + X^507 - X^505 + X^504 - X^503 - X^501 + X^500 + X^496 - X^494 - X^493 + X^491 + X^490 - X^488 + X^484 - X^483 + X^481 + X^478 - X^475 - X^472 - X^470 + X^469 + X^468 - X^464 - X^462 + X^461 - X^459 - X^458 + X^455 + X^454 - X^453 - X^452 - X^451 + X^450 + X^449 - X^445 + X^444 - X^443 + X^442 - X^440 + X^438 - X^437 + X^436 - X^435 + X^432 - X^431 + X^430 - X^429 + X^428 - X^426 - X^425 + X^424 - X^422 + X^421 - X^419 - X^417 - X^416 - X^414 - X^412 - X^407 - X^405 + X^403 + X^402 + X^401 + X^400 - X^397 + X^396 + X^395 - X^393 - X^392 + X^391 + X^390 + X^388 + X^386 + X^385 + X^383 - X^382 + X^379 - X^378 + X^377 - X^376 - X^375 - X^374 + X^371 - X^369 + X^368 - X^366 - X^363 + X^362 - X^361 + X^358 + X^357 - X^356 - X^355 + X^353 - X^352 - X^351 + X^348 - X^346 + X^345 - X^344 + X^343 + X^339 - X^338 + X^337 + X^336 - X^334 - X^333 + X^332 + X^331 - X^330 + X^328 + X^327 + X^326 + X^325 + X^320 - X^318 - X^317 + X^316 - X^314 + X^312 - X^311 - X^308 + X^305 - X^304 + X^303 + X^301 + X^300 - X^299 + X^298 + X^296 - X^294 + X^293 + X^292 + X^291 + X^290 + X^288 + X^287 - X^286 - X^285 + X^284 + X^283 - X^282 + X^281 + X^280 - X^279 - X^278 - X^272 - X^270 - X^269 - X^268 - X^266 + X^264 + X^263 + X^262 - X^261 + X^259 + X^257 + X^255 - X^252 - X^251 + X^250 - X^247 + X^246 - X^245 + X^240 - X^239 + X^237 + X^236 + X^235 - X^234 + X^232 - X^231 + X^230 - X^229 + X^228 - X^227 - X^225 - X^223 - X^222 - X^219 + X^218 - X^217 + X^216 + X^214 + X^212 - X^211 + X^210 - X^208 + X^206 - X^205 - X^204 - X^203 - X^202 - X^201 - X^200 + X^199 + X^197 + X^196 + X^195 + X^193 + X^192 - X^191 - X^190 + X^189 + X^187 - X^186 + X^185 + X^183 - X^181 - X^180 - X^179 + X^177 + X^176 + X^175 + X^174 - X^172 + X^170 + X^169 + X^168 - X^167 - X^166 - X^165 - X^164 + X^163 + X^162 + X^161 + X^160 + X^159 - X^157 + X^155 + X^154 - X^152 + X^151 - X^150 + X^148 + X^147 + X^145 - X^142 + X^141 - X^140 + X^139 - X^137 - X^136 + X^134 - X^133 + X^132 - X^131 - X^129 + X^128 - X^126 - X^125 - X^123 - X^122 - X^121 - X^120 - X^119 - X^118 + X^117 - X^115 - X^114 - X^113 + X^112 + X^111 - X^107 - X^106 + X^105 + X^104 - X^103 - X^102 + X^101 - X^100 - X^99 - X^98 - X^97 - X^96 + X^95 + X^94 + X^93 + X^91 + X^90 - X^89 + X^88 - X^85 + X^84 - X^83 - X^81 + X^80 + X^79 + X^78 + X^75 + X^74 - X^73 + X^72 + X^68 - X^67 - X^66 - X^63 - X^62 + X^60 + X^57 - X^56 + X^53 - X^52 - X^49 + X^48 - X^47 - X^46 + X^44 - X^43 - X^41 - X^40 + X^38 + X^37 + X^36 - X^35 - X^34 - X^32 + X^31 + X^29 - X^28 + X^26 + X^25 - X^22 + X^21 + X^20 + X^19 - X^17 + X^16 - X^15 - X^14 + X^13 - X^11 + X^10 + X^7 + X^6 - X^4 + X\n"
     ]
    },
    {
     "data": {
      "text/plain": [
       "-X^820 - X^818 - X^816 - X^815 + X^814 - X^813 - X^812 - X^811 + X^809 + X^806 - X^803 - X^802 - X^800 - X^799 + X^797 + X^796 + X^793 + X^790 - X^789 + X^788 - X^787 + X^786 - X^785 - X^782 + X^781 - X^780 + X^778 - X^777 + X^776 - X^775 + X^774 - X^772 - X^771 - X^770 + X^768 - X^765 - X^764 + X^763 + X^762 - X^761 + X^760 - X^758 + X^757 - X^756 - X^755 - X^754 - X^753 - X^751 - X^750 + X^749 - X^746 + X^745 - X^744 + X^740 + X^739 - X^737 + X^734 + X^733 - X^732 - X^731 - X^730 - X^728 + X^727 + X^726 - X^722 + X^721 + X^720 - X^717 - X^716 + X^715 + X^714 + X^713 + X^712 + X^711 + X^710 + X^708 + X^707 + X^706 - X^705 - X^704 - X^702 - X^700 - X^698 - X^697 + X^696 + X^694 - X^693 - X^692 + X^691 - X^690 - X^689 + X^688 - X^687 - X^686 - X^684 - X^682 + X^680 + X^679 + X^677 - X^676 + X^675 + X^674 + X^673 + X^668 + X^666 - X^663 - X^661 + X^660 + X^659 - X^657 + X^656 + X^655 + X^653 - X^652 - X^650 + X^649 + X^648 - X^647 - X^646 + X^642 + X^641 - X^639 + X^638 + X^636 + X^634 + X^633 - X^632 + X^630 + X^627 + X^626 - X^625 - X^624 - X^623 - X^622 + X^621 + X^620 + X^618 + X^617 + X^616 - X^615 - X^614 - X^613 - X^610 + X^609 + X^608 + X^606 + X^605 - X^604 + X^603 - X^601 + X^600 + X^599 + X^598 - X^597 + X^589 - X^587 + X^586 + X^585 - X^583 - X^581 + X^580 + X^579 - X^576 - X^575 - X^574 + X^573 - X^572 + X^571 + X^569 - X^568 - X^567 + X^566 - X^564 - X^560 - X^559 - X^557 - X^556 + X^555 - X^553 - X^551 + X^550 - X^547 - X^545 - X^544 - X^542 + X^541 + X^540 + X^539 + X^538 - X^537 - X^534 - X^532 + X^531 + X^530 - X^528 - X^526 - X^525 + X^524 + X^523 + X^519 - X^516 - X^514 + X^513 - X^511 + X^509 - X^508 + X^507 - X^505 + X^504 - X^503 - X^501 + X^500 + X^496 - X^494 - X^493 + X^491 + X^490 - X^488 + X^484 - X^483 + X^481 + X^478 - X^475 - X^472 - X^470 + X^469 + X^468 - X^464 - X^462 + X^461 - X^459 - X^458 + X^455 + X^454 - X^453 - X^452 - X^451 + X^450 + X^449 - X^445 + X^444 - X^443 + X^442 - X^440 + X^438 - X^437 + X^436 - X^435 + X^432 - X^431 + X^430 - X^429 + X^428 - X^426 - X^425 + X^424 - X^422 + X^421 - X^419 - X^417 - X^416 - X^414 - X^412 - X^407 - X^405 + X^403 + X^402 + X^401 + X^400 - X^397 + X^396 + X^395 - X^393 - X^392 + X^391 + X^390 + X^388 + X^386 + X^385 + X^383 - X^382 + X^379 - X^378 + X^377 - X^376 - X^375 - X^374 + X^371 - X^369 + X^368 - X^366 - X^363 + X^362 - X^361 + X^358 + X^357 - X^356 - X^355 + X^353 - X^352 - X^351 + X^348 - X^346 + X^345 - X^344 + X^343 + X^339 - X^338 + X^337 + X^336 - X^334 - X^333 + X^332 + X^331 - X^330 + X^328 + X^327 + X^326 + X^325 + X^320 - X^318 - X^317 + X^316 - X^314 + X^312 - X^311 - X^308 + X^305 - X^304 + X^303 + X^301 + X^300 - X^299 + X^298 + X^296 - X^294 + X^293 + X^292 + X^291 + X^290 + X^288 + X^287 - X^286 - X^285 + X^284 + X^283 - X^282 + X^281 + X^280 - X^279 - X^278 - X^272 - X^270 - X^269 - X^268 - X^266 + X^264 + X^263 + X^262 - X^261 + X^259 + X^257 + X^255 - X^252 - X^251 + X^250 - X^247 + X^246 - X^245 + X^240 - X^239 + X^237 + X^236 + X^235 - X^234 + X^232 - X^231 + X^230 - X^229 + X^228 - X^227 - X^225 - X^223 - X^222 - X^219 + X^218 - X^217 + X^216 + X^214 + X^212 - X^211 + X^210 - X^208 + X^206 - X^205 - X^204 - X^203 - X^202 - X^201 - X^200 + X^199 + X^197 + X^196 + X^195 + X^193 + X^192 - X^191 - X^190 + X^189 + X^187 - X^186 + X^185 + X^183 - X^181 - X^180 - X^179 + X^177 + X^176 + X^175 + X^174 - X^172 + X^170 + X^169 + X^168 - X^167 - X^166 - X^165 - X^164 + X^163 + X^162 + X^161 + X^160 + X^159 - X^157 + X^155 + X^154 - X^152 + X^151 - X^150 + X^148 + X^147 + X^145 - X^142 + X^141 - X^140 + X^139 - X^137 - X^136 + X^134 - X^133 + X^132 - X^131 - X^129 + X^128 - X^126 - X^125 - X^123 - X^122 - X^121 - X^120 - X^119 - X^118 + X^117 - X^115 - X^114 - X^113 + X^112 + X^111 - X^107 - X^106 + X^105 + X^104 - X^103 - X^102 + X^101 - X^100 - X^99 - X^98 - X^97 - X^96 + X^95 + X^94 + X^93 + X^91 + X^90 - X^89 + X^88 - X^85 + X^84 - X^83 - X^81 + X^80 + X^79 + X^78 + X^75 + X^74 - X^73 + X^72 + X^68 - X^67 - X^66 - X^63 - X^62 + X^60 + X^57 - X^56 + X^53 - X^52 - X^49 + X^48 - X^47 - X^46 + X^44 - X^43 - X^41 - X^40 + X^38 + X^37 + X^36 - X^35 - X^34 - X^32 + X^31 + X^29 - X^28 + X^26 + X^25 - X^22 + X^21 + X^20 + X^19 - X^17 + X^16 - X^15 - X^14 + X^13 - X^11 + X^10 + X^7 + X^6 - X^4 + X"
      ]
     },
     "execution_count": 14,
     "metadata": {},
     "output_type": "execute_result"
    }
   ],
   "source": [
    "#change parameters to play with it as you see fit :)\n",
    "# the current parameters are considered \"safe\"\n",
    "p = 3\n",
    "q = 4096\n",
    "R.<X> = Integers(0)[]\n",
    "N = 821\n",
    "d = 271\n",
    "f_Fp_h = NTRU_setup(N,p,q,d)\n",
    "f = f_Fp_h[0]\n",
    "Fp = f_Fp_h[1]\n",
    "h = f_Fp_h[2]\n",
    "#print(h)\n",
    "m = generate_key(d,d,N)\n",
    "print(m)\n",
    "e = NTRU_encrypt(m,p,q,N,h)\n",
    "#print(e)\n",
    "NTRU_decrypt(f,Fp,e,p,q,N)"
   ]
  },
  {
   "cell_type": "code",
   "execution_count": null,
   "metadata": {},
   "outputs": [],
   "source": []
  }
 ],
 "metadata": {
  "kernelspec": {
   "display_name": "SageMath 10.3",
   "language": "sage",
   "name": "sagemath-10.3"
  },
  "language_info": {
   "codemirror_mode": {
    "name": "ipython",
    "version": 3
   },
   "file_extension": ".py",
   "mimetype": "text/x-python",
   "name": "python",
   "nbconvert_exporter": "python",
   "pygments_lexer": "ipython3",
   "version": "3.11.8"
  }
 },
 "nbformat": 4,
 "nbformat_minor": 4
}
